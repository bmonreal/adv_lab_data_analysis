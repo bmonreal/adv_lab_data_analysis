{
  "nbformat": 4,
  "nbformat_minor": 0,
  "metadata": {
    "kernelspec": {
      "display_name": "Python 3",
      "language": "python",
      "name": "python3"
    },
    "colab": {
      "name": "test_collab.ipynb",
      "provenance": []
    }
  },
  "cells": [
    {
      "cell_type": "markdown",
      "metadata": {
        "id": "04IHCg5jtDwM",
        "colab_type": "text"
      },
      "source": [
        "This is a test of Git/Collab/Jupyter integration for a class\n"
      ]
    },
    {
      "cell_type": "code",
      "metadata": {
        "id": "dHcBAAa6tDwO",
        "colab_type": "code",
        "colab": {
          "base_uri": "https://localhost:8080/",
          "height": 34
        },
        "outputId": "7fcc255b-bcab-433c-f1dd-7e2af8373eb9"
      },
      "source": [
        "import numpy as np\n",
        "a = np.sqrt(3.999)\n",
        "print(a)"
      ],
      "execution_count": 2,
      "outputs": [
        {
          "output_type": "stream",
          "text": [
            "1.9997499843730466\n"
          ],
          "name": "stdout"
        }
      ]
    },
    {
      "cell_type": "code",
      "metadata": {
        "id": "qxz_U3yNtDwS",
        "colab_type": "code",
        "colab": {
          "base_uri": "https://localhost:8080/",
          "height": 265
        },
        "outputId": "ca316e52-faf9-4d78-c0ad-1d88d8d57984"
      },
      "source": [
        "from matplotlib import pyplot as plt\n",
        "plt.plot([1,2,3],[12,11,11.5])\n",
        "plt.show()"
      ],
      "execution_count": 3,
      "outputs": [
        {
          "output_type": "display_data",
          "data": {
            "image/png": "[encoded data removed]",
            "text/plain": [
              "<Figure size 432x288 with 1 Axes>"
            ]
          },
          "metadata": {
            "tags": []
          }
        }
      ]
    },
    {
      "cell_type": "code",
      "metadata": {
        "id": "NJGhyNDOtRux",
        "colab_type": "code",
        "colab": {}
      },
      "source": [
        ""
      ],
      "execution_count": 0,
      "outputs": []
    }
  ]
}